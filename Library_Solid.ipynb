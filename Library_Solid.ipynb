{
 "cells": [
  {
   "cell_type": "markdown",
   "metadata": {},
   "source": [
    "## Library Project "
   ]
  },
  {
   "cell_type": "markdown",
   "metadata": {},
   "source": [
    "## Made By : \n",
    "1. Abdallah Waleed kamal Mousa    id: 20230192\n",
    "\n",
    "2. Saif Sameh Fathy Elsawey       id: 20230142\n",
    "\n",
    "3. Abdelrahman Fathy Elbahrawey   id: 20230176\n",
    "\n",
    "4. Abdelrahman Ali Elghonemi      id: 20230174"
   ]
  },
  {
   "cell_type": "markdown",
   "metadata": {},
   "source": [
    "## Single Responsibility Principle (SRP)"
   ]
  },
  {
   "cell_type": "code",
   "execution_count": 11,
   "metadata": {},
   "outputs": [],
   "source": [
    "class Book:\n",
    "    def __init__(self, title, author):\n",
    "        self.title = title\n",
    "        self.author = author\n",
    "\n",
    "    def __str__(self):\n",
    "        return f\"Book: {self.title} by {self.author}\"\n",
    "\n",
    "class Member:\n",
    "    def __init__(self, name):\n",
    "        self.name = name\n",
    "\n",
    "    def __str__(self):\n",
    "        return f\"Member: {self.name}\""
   ]
  },
  {
   "cell_type": "markdown",
   "metadata": {},
   "source": [
    "## Open/Closed Principle (OCP)"
   ]
  },
  {
   "cell_type": "code",
   "execution_count": 12,
   "metadata": {},
   "outputs": [],
   "source": [
    "class Discount:\n",
    "    def calculate_discount(self, book):\n",
    "        pass\n",
    "\n",
    "\n",
    "class NoDiscount(Discount):\n",
    "    def calculate_discount(self, book):\n",
    "        return 0\n",
    "\n",
    "\n",
    "class MemberDiscount(Discount):\n",
    "    def calculate_discount(self, book):\n",
    "        return 10    "
   ]
  },
  {
   "cell_type": "markdown",
   "metadata": {},
   "source": [
    "## Liskov Substitution Principle (LSP)"
   ]
  },
  {
   "cell_type": "code",
   "execution_count": 13,
   "metadata": {},
   "outputs": [],
   "source": [
    "class EBook(Book):\n",
    "    def __init__(self, title, author, file_format):\n",
    "        super().__init__(title, author)\n",
    "        self.file_format = file_format\n",
    "\n",
    "    def download(self):\n",
    "        print(f\"Downloading {self.title} in {self.file_format} format.\")"
   ]
  },
  {
   "cell_type": "markdown",
   "metadata": {},
   "source": [
    "## Interface Segregation Principle (ISP)"
   ]
  },
  {
   "cell_type": "code",
   "execution_count": 14,
   "metadata": {},
   "outputs": [],
   "source": [
    "class BookOperations:\n",
    "    def __init__(self):\n",
    "        self.books = []\n",
    "\n",
    "    def add_book(self, book):\n",
    "        self.books.append(book)\n",
    "        print(f\"{book} added to the library.\")\n",
    "\n",
    "    def remove_book(self, book):\n",
    "        if book in self.books:\n",
    "            self.books.remove(book)\n",
    "            print(f\"{book} removed from the library.\")\n",
    "        else:\n",
    "            print(f\"{book} is not found in the library.\")\n",
    "\n",
    "\n",
    "class MemberOperations:\n",
    "    def __init__(self):\n",
    "        self.borrowed_books = {}\n",
    "\n",
    "    def borrow_book(self, member, book):\n",
    "        if member.name not in self.borrowed_books:\n",
    "            self.borrowed_books[member.name] = []\n",
    "        self.borrowed_books[member.name].append(book)\n",
    "        print(f\"{member} borrowed {book}.\")\n",
    "\n",
    "    def return_book(self, member, book):\n",
    "        if member.name in self.borrowed_books and book in self.borrowed_books[member.name]:\n",
    "            self.borrowed_books[member.name].remove(book)\n",
    "            print(f\"{member} returned {book}.\")\n",
    "        else:\n",
    "            print(f\"{member} did not borrow {book}.\")"
   ]
  },
  {
   "cell_type": "markdown",
   "metadata": {},
   "source": [
    "## Dependency Inversion Principle (DIP)"
   ]
  },
  {
   "cell_type": "code",
   "execution_count": 15,
   "metadata": {},
   "outputs": [],
   "source": [
    "class Library:\n",
    "    def __init__(self, book_operations: BookOperations, member_operations: MemberOperations):\n",
    "        self.book_operations = book_operations\n",
    "        self.member_operations = member_operations\n",
    "\n",
    "    def add_book_to_library(self, book):\n",
    "        self.book_operations.add_book(book)\n",
    "\n",
    "    def remove_book_from_library(self, book):\n",
    "        self.book_operations.remove_book(book)\n",
    "\n",
    "    def borrow_book(self, member, book):\n",
    "        self.member_operations.borrow_book(member, book)\n",
    "\n",
    "    def return_book(self, member, book):\n",
    "        self.member_operations.return_book(member, book)"
   ]
  },
  {
   "cell_type": "markdown",
   "metadata": {},
   "source": [
    "## Usage : "
   ]
  },
  {
   "cell_type": "code",
   "execution_count": 16,
   "metadata": {},
   "outputs": [
    {
     "name": "stdout",
     "output_type": "stream",
     "text": [
      "Book: Python Programming by John Doe added to the library.\n",
      "Book: Machine Learning Basics by Jane Doe added to the library.\n",
      "Member: Ali borrowed Book: Python Programming by John Doe.\n",
      "Member: Sara borrowed Book: Machine Learning Basics by Jane Doe.\n",
      "Downloading Machine Learning Basics in PDF format.\n",
      "Member: Ali returned Book: Python Programming by John Doe.\n",
      "Member: Sara returned Book: Machine Learning Basics by Jane Doe.\n",
      "Book: Python Programming by John Doe removed from the library.\n"
     ]
    }
   ],
   "source": [
    "book1 = Book(\"Python Programming\", \"John Doe\")\n",
    "book2 = EBook(\"Machine Learning Basics\", \"Jane Doe\", \"PDF\")\n",
    "member1 = Member(\"Ali\")\n",
    "member2 = Member(\"Sara\")\n",
    "book_operations = BookOperations()\n",
    "member_operations = MemberOperations()\n",
    "library = Library(book_operations, member_operations)\n",
    "library.add_book_to_library(book1)\n",
    "library.add_book_to_library(book2)\n",
    "library.borrow_book(member1, book1)\n",
    "library.borrow_book(member2, book2)\n",
    "book2.download()\n",
    "library.return_book(member1, book1)\n",
    "library.return_book(member2, book2)\n",
    "library.remove_book_from_library(book1)"
   ]
  }
 ],
 "metadata": {
  "kernelspec": {
   "display_name": "Python 3",
   "language": "python",
   "name": "python3"
  },
  "language_info": {
   "codemirror_mode": {
    "name": "ipython",
    "version": 3
   },
   "file_extension": ".py",
   "mimetype": "text/x-python",
   "name": "python",
   "nbconvert_exporter": "python",
   "pygments_lexer": "ipython3",
   "version": "3.13.0"
  }
 },
 "nbformat": 4,
 "nbformat_minor": 2
}
