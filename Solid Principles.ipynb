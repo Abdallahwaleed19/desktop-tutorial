{
 "cells": [
  {
   "cell_type": "markdown",
   "metadata": {},
   "source": [
    "## Solid Principles"
   ]
  },
  {
   "cell_type": "markdown",
   "metadata": {},
   "source": [
    "## S : Single Responsibility Principle :\n"
   ]
  },
  {
   "cell_type": "code",
   "execution_count": 2,
   "metadata": {},
   "outputs": [],
   "source": [
    "class file_editor :\n",
    "    def Write_file (self , File_data):\n",
    "        pass \n",
    "    def Read_file (self , file_data):\n",
    "        pass \n",
    "class Data_processing :\n",
    "    def Processing_data (self , data ):\n",
    "        pass \n",
    "class Data_cleaning :\n",
    "    def Cleaning_data (self , data):\n",
    "        pass \n",
    "class Data_integration :\n",
    "    def Integarted_data (self , data):\n",
    "        pass            "
   ]
  },
  {
   "cell_type": "markdown",
   "metadata": {},
   "source": [
    "## O : Open Closed Principles (OPC)"
   ]
  },
  {
   "cell_type": "markdown",
   "metadata": {},
   "source": [
    "## The Problem Code : "
   ]
  },
  {
   "cell_type": "code",
   "execution_count": null,
   "metadata": {},
   "outputs": [],
   "source": [
    "import math\n",
    "class Shape :\n",
    "    def __init__(self,shape_type , **kwargs):\n",
    "        self.shape_type = shape_type\n",
    "        if self.shape_type == \"Circle\" :\n",
    "            self.radius  = kwargs[\"radius\"]\n",
    "        elif self.shape_type == \"Square\" :\n",
    "            self.base = kwargs[\"base\"]\n",
    "    def calculate_area (self):\n",
    "        if self.shape_type == \"Circle\":\n",
    "            return math.pi * self.radius ** 2\n",
    "        elif self.shape_type == \"Square\" :\n",
    "            return self.base ** 2\n",
    "                \n",
    "    "
   ]
  },
  {
   "cell_type": "markdown",
   "metadata": {},
   "source": [
    "## Solution for the problem :"
   ]
  },
  {
   "cell_type": "code",
   "execution_count": 4,
   "metadata": {},
   "outputs": [
    {
     "name": "stdout",
     "output_type": "stream",
     "text": [
      "The area of  Circle =  78.53981633974483\n",
      "The area of Square  =  25\n"
     ]
    }
   ],
   "source": [
    "from abc import ABC,abstractmethod\n",
    "import math\n",
    "class Shape (ABC):\n",
    "    def __init__(self,shape_type):\n",
    "        self.shape_type = shape_type\n",
    "    @abstractmethod\n",
    "    def calculate_area (self):\n",
    "        pass \n",
    "class Circle (Shape):\n",
    "    def __init__(self, radius):\n",
    "        super().__init__(\"Circle\")\n",
    "        self.radius = radius\n",
    "    def calculate_area(self):\n",
    "        return   math.pi *self.radius **2\n",
    "class Square (Shape):\n",
    "    def __init__(self, base ):\n",
    "        super().__init__(\"Square\")  \n",
    "        self.base  = base\n",
    "    def calculate_area(self):\n",
    "        return self.base ** 2\n",
    "Circle1 = Circle (5)           \n",
    "Square1  = Square(5)\n",
    "print(\"The area of  Circle = \" , Circle1.calculate_area())\n",
    "print(\"The area of Square  = \" ,Square1.calculate_area())"
   ]
  },
  {
   "cell_type": "markdown",
   "metadata": {},
   "source": [
    "## L : Liskov Substitution Principles (LSP)"
   ]
  },
  {
   "cell_type": "markdown",
   "metadata": {},
   "source": [
    "## The Problem Code : "
   ]
  },
  {
   "cell_type": "code",
   "execution_count": 1,
   "metadata": {},
   "outputs": [
    {
     "name": "stdout",
     "output_type": "stream",
     "text": [
      "width: 4, height: 5, area: 20\n",
      "width: 4, height: 5, area: 20\n"
     ]
    }
   ],
   "source": [
    "class Rectangle:\n",
    "    def __init__(self, width, height):\n",
    "        self.width = width\n",
    "        self.height = height\n",
    "        \n",
    "    def calculate_area(self):\n",
    "        return self.width * self.height\n",
    "\n",
    "class Square(Rectangle):\n",
    "    def __init__(self, side):\n",
    "        super().__init__(side, side)\n",
    "\n",
    "def set_dimensions(rect: Rectangle):\n",
    "    rect.width = 4\n",
    "    rect.height = 5\n",
    "    print(f\"width: {rect.width}, height: {rect.height}, area: {rect.calculate_area()}\")\n",
    "\n",
    "rectangle = Rectangle(2, 3)\n",
    "set_dimensions(rectangle)\n",
    "\n",
    "square = Square(4)\n",
    "set_dimensions(square)\n",
    "\n",
    "        "
   ]
  },
  {
   "cell_type": "markdown",
   "metadata": {},
   "source": [
    "## Solution for the problem :"
   ]
  },
  {
   "cell_type": "code",
   "execution_count": null,
   "metadata": {},
   "outputs": [
    {
     "name": "stdout",
     "output_type": "stream",
     "text": [
      "Square area: 25\n",
      "Rectangle area: 10\n"
     ]
    }
   ],
   "source": [
    "from abc import ABC, abstractmethod\n",
    "\n",
    "class Shape(ABC):\n",
    "    @abstractmethod\n",
    "    def get_area(self):\n",
    "        pass\n",
    "\n",
    "class Rectangle(Shape):\n",
    "    def __init__(self, height, base):\n",
    "        self.height = height\n",
    "        self.base = base\n",
    "\n",
    "    def get_area(self):\n",
    "        return self.base * self.height\n",
    "\n",
    "class Square(Shape):\n",
    "    def __init__(self, side):\n",
    "        self.side = side\n",
    "\n",
    "    def get_area(self):\n",
    "        return self.side ** 2\n",
    "\n",
    "\n",
    "square1 = Square(5)\n",
    "rectangle1 = Rectangle(5, 2)\n",
    "\n",
    "# Get and print areas\n",
    "print(f\"Square area: {square1.get_area()}\")\n",
    "print(f\"Rectangle area: {rectangle1.get_area()}\")\n",
    "\n",
    "\n",
    "                "
   ]
  },
  {
   "cell_type": "markdown",
   "metadata": {},
   "source": [
    "## I : Interface Segregation Principle (ISP)"
   ]
  },
  {
   "cell_type": "code",
   "execution_count": null,
   "metadata": {},
   "outputs": [],
   "source": []
  },
  {
   "cell_type": "markdown",
   "metadata": {},
   "source": [
    "## D : Inversion Principle (DIP)"
   ]
  },
  {
   "cell_type": "code",
   "execution_count": null,
   "metadata": {},
   "outputs": [],
   "source": []
  }
 ],
 "metadata": {
  "kernelspec": {
   "display_name": "Python 3",
   "language": "python",
   "name": "python3"
  },
  "language_info": {
   "codemirror_mode": {
    "name": "ipython",
    "version": 3
   },
   "file_extension": ".py",
   "mimetype": "text/x-python",
   "name": "python",
   "nbconvert_exporter": "python",
   "pygments_lexer": "ipython3",
   "version": "3.13.0"
  }
 },
 "nbformat": 4,
 "nbformat_minor": 2
}
