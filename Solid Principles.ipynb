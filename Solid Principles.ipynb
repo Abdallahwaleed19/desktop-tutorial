{
 "cells": [
  {
   "cell_type": "markdown",
   "metadata": {},
   "source": [
    "## Solid Principles"
   ]
  },
  {
   "cell_type": "markdown",
   "metadata": {},
   "source": [
    "## S : Single Responsibility Principle :\n"
   ]
  },
  {
   "cell_type": "markdown",
   "metadata": {},
   "source": [
    "## The Problem Code : "
   ]
  },
  {
   "cell_type": "code",
   "execution_count": null,
   "metadata": {},
   "outputs": [],
   "source": [
    "class Doctor :\n",
    "    def Teeth_doctor (self):\n",
    "        pass \n",
    "    def Stomach_doctor (self):\n",
    "        pass\n",
    "    def Heart_doctor (self):\n",
    "        pass\n",
    "    def Brain_doctor (self):\n",
    "        pass\n",
    "    def Lung_doctor (self):\n",
    "        pass "
   ]
  },
  {
   "cell_type": "code",
   "execution_count": null,
   "metadata": {},
   "outputs": [],
   "source": [
    "class file : \n",
    "    def read (self , file path):\n",
    "        # Read the file and return the content\n",
    "        pass \n",
    "    def write (self , file path , content):\n",
    "        # Write the content to the file\n",
    "        pass\n",
    "    def process_content (self , content):\n",
    "        # Process the content\n",
    "        pass\n",
    "    def analyzer_content (self , content):\n",
    "        # Analyze the content\n",
    "        pass\n",
    "    def genarator_file (self ,content):\n",
    "        # Generate the file\n",
    "        pass"
   ]
  },
  {
   "cell_type": "code",
   "execution_count": null,
   "metadata": {},
   "outputs": [],
   "source": [
    "from pathlib import Path\n",
    "from zipfile import ZipFile\n",
    "class FileManager:\n",
    "     def __init__(self, filename):\n",
    "           self.path = Path(filename)\n",
    "     def read(self, encoding=\"utf-8\"):\n",
    "           return self.path.read_text(encoding)\n",
    "     def write(self, data, encoding=\"utf-8\"):\n",
    "           self.path.write_text(data, encoding)\n",
    "     def compress(self):\n",
    "           with ZipFile(self.path.with_suffix(\".zip\"), mode=\"w\") as archive:\n",
    "            archive.write(self.path)\n",
    "     def decompress(self):\n",
    "            with ZipFile(self.path.with_suffix(\".zip\"), mode=\"r\") as archive:\n",
    "                archive.extractall()"
   ]
  },
  {
   "cell_type": "markdown",
   "metadata": {},
   "source": [
    "## The Solution For The Problem : "
   ]
  },
  {
   "cell_type": "code",
   "execution_count": null,
   "metadata": {},
   "outputs": [],
   "source": [
    "class Teeth_doctor :\n",
    "    def get_job (self):\n",
    "        pass \n",
    "class Stomach_doctor :\n",
    "    def get_job(self):\n",
    "        pass \n",
    "class Heart_doctor:\n",
    "    def get_job(self):\n",
    "        pass      \n",
    "class Brain_doctor :\n",
    "    def get_job(self):\n",
    "        pass \n",
    "class Lung_doctor :\n",
    "    def get_job (self):\n",
    "        pass               "
   ]
  },
  {
   "cell_type": "code",
   "execution_count": null,
   "metadata": {},
   "outputs": [],
   "source": [
    "from pathlib import Path\n",
    "from zipfile import ZipFile\n",
    "class FileManager:\n",
    "    def __init__(self, filename):\n",
    "           self.path = Path(filename)\n",
    "    def read(self, encoding=\"utf-8\"):\n",
    "           return self.path.read_text(encoding)\n",
    "    def write(self, data, encoding=\"utf-8\"):\n",
    "           self.path.write_text(data, encoding)\n",
    "class ZipFileManager:\n",
    "    def __init__(self, filename):\n",
    "           self.path = Path(filename)\n",
    "    def compress(self):\n",
    "           with ZipFile(self.path.with_suffix(\".zip\"), mode=\"w\") as archive:\n",
    "                  archive.write(self.path)\n",
    "    def decompress(self):\n",
    "           with ZipFile(self.path.with_suffix(\".zip\"), mode=\"r\") as archive:\n",
    "                  archive.extractall()"
   ]
  },
  {
   "cell_type": "code",
   "execution_count": null,
   "metadata": {},
   "outputs": [],
   "source": [
    "class File:\n",
    "    def read (self , file_path ):\n",
    "        # read file content\n",
    "        pass\n",
    "    def write (self , file_path , content ):\n",
    "        # write file content\n",
    "        pass\n",
    "class Data_processor:    \n",
    "    def process_data (self , data ):\n",
    "        # process data\n",
    "        pass\n",
    "class Analyzer_data :\n",
    "    def analyze_data (self , data ):\n",
    "        # analyze data\n",
    "        pass\n",
    "class Report_generator :\n",
    "    def generate_report (self , data ):\n",
    "        # generate report\n",
    "        pass "
   ]
  },
  {
   "cell_type": "markdown",
   "metadata": {},
   "source": [
    "## O : Open Closed Principles (OPC)"
   ]
  },
  {
   "cell_type": "markdown",
   "metadata": {},
   "source": [
    "## The Problem Code : "
   ]
  },
  {
   "cell_type": "code",
   "execution_count": null,
   "metadata": {},
   "outputs": [],
   "source": [
    "import math\n",
    "class Shape :\n",
    "    def __init__(self,shape_type , **kwargs):\n",
    "        self.shape_type = shape_type\n",
    "        if self.shape_type == \"Circle\" :\n",
    "            self.radius  = kwargs[\"radius\"]\n",
    "        elif self.shape_type == \"Square\" :\n",
    "            self.base = kwargs[\"base\"]\n",
    "    def calculate_area (self):\n",
    "        if self.shape_type == \"Circle\":\n",
    "            return math.pi * self.radius ** 2\n",
    "        elif self.shape_type == \"Square\" :\n",
    "            return self.base ** 2"
   ]
  },
  {
   "cell_type": "code",
   "execution_count": 10,
   "metadata": {},
   "outputs": [],
   "source": [
    "class Human :\n",
    "    def Talk (self):\n",
    "        print (self.name + \" says: \" + self.speech)\n",
    "    def Eat (self):\n",
    "        print (self.name + \" is eating \" + self.food)\n",
    "    def Sleep (self):\n",
    "        print (self.name + \" is sleeping\")"
   ]
  },
  {
   "cell_type": "markdown",
   "metadata": {},
   "source": [
    "## Solution for the problem :"
   ]
  },
  {
   "cell_type": "code",
   "execution_count": 11,
   "metadata": {},
   "outputs": [
    {
     "name": "stdout",
     "output_type": "stream",
     "text": [
      "The area of  Circle =  78.53981633974483\n",
      "The area of Square  =  25\n"
     ]
    }
   ],
   "source": [
    "from abc import ABC,abstractmethod\n",
    "import math\n",
    "class Shape (ABC):\n",
    "    def __init__(self,shape_type):\n",
    "        self.shape_type = shape_type\n",
    "    @abstractmethod\n",
    "    def calculate_area (self):\n",
    "        pass \n",
    "class Circle (Shape):\n",
    "    def __init__(self, radius):\n",
    "        super().__init__(\"Circle\")\n",
    "        self.radius = radius\n",
    "    def calculate_area(self):\n",
    "        return   math.pi *self.radius **2\n",
    "class Square (Shape):\n",
    "    def __init__(self, base ):\n",
    "        super().__init__(\"Square\")  \n",
    "        self.base  = base\n",
    "    def calculate_area(self):\n",
    "        return self.base ** 2\n",
    "Circle1 = Circle (5)           \n",
    "Square1  = Square(5)\n",
    "print(\"The area of  Circle = \" , Circle1.calculate_area())\n",
    "print(\"The area of Square  = \" ,Square1.calculate_area())"
   ]
  },
  {
   "cell_type": "code",
   "execution_count": 12,
   "metadata": {},
   "outputs": [],
   "source": [
    "from abc import ABC, abstractmethod\n",
    "class Human :\n",
    "    @abstractmethod\n",
    "    def state (self):\n",
    "        pass \n",
    "class Talk (Human):\n",
    "    def state (self):\n",
    "        return \"I can talk\"\n",
    "class Eat (Human):\n",
    "    def state (self):\n",
    "        return \"I can eat\"\n",
    "class Sleep (Human):\n",
    "    def state (self):\n",
    "        return \"I can sleep\""
   ]
  },
  {
   "cell_type": "markdown",
   "metadata": {},
   "source": [
    "## L : Liskov Substitution Principles (LSP)"
   ]
  },
  {
   "cell_type": "markdown",
   "metadata": {},
   "source": [
    "## The Problem Code : "
   ]
  },
  {
   "cell_type": "code",
   "execution_count": 13,
   "metadata": {},
   "outputs": [
    {
     "name": "stdout",
     "output_type": "stream",
     "text": [
      "width: 4, height: 5, area: 20\n",
      "width: 4, height: 5, area: 20\n"
     ]
    }
   ],
   "source": [
    "class Rectangle:\n",
    "    def __init__(self, width, height):\n",
    "        self.width = width\n",
    "        self.height = height\n",
    "        \n",
    "    def calculate_area(self):\n",
    "        return self.width * self.height\n",
    "\n",
    "class Square(Rectangle):\n",
    "    def __init__(self, side):\n",
    "        super().__init__(side, side)\n",
    "\n",
    "def set_dimensions(rect: Rectangle):\n",
    "    rect.width = 4\n",
    "    rect.height = 5\n",
    "    print(f\"width: {rect.width}, height: {rect.height}, area: {rect.calculate_area()}\")\n",
    "\n",
    "rectangle = Rectangle(2, 3)\n",
    "set_dimensions(rectangle)\n",
    "\n",
    "square = Square(4)\n",
    "set_dimensions(square)\n",
    "        "
   ]
  },
  {
   "cell_type": "code",
   "execution_count": null,
   "metadata": {},
   "outputs": [],
   "source": [
    "class Vehicle :\n",
    "    def drive (self):\n",
    "        print(\"Vroom!\")\n",
    "class Car (Vehicle):\n",
    "    def drive (self):\n",
    "        print(\"Vroom! Vroom!\")\n",
    "class Bicycle (Vehicle):\n",
    "    def drive (self):\n",
    "        print(\"I Don't Drive\")"
   ]
  },
  {
   "cell_type": "code",
   "execution_count": null,
   "metadata": {},
   "outputs": [],
   "source": [
    "class Bird : \n",
    "    def fly (self):\n",
    "        print(\"Bird is flying\")  # prints \"Bird is flying\"  \n",
    "class Sparrow (Bird):\n",
    "    def fly (self):\n",
    "        print(\"Sparrow is flying\")  # prints \"Sparrow is flying\"\n",
    "class Peguin (Bird):\n",
    "    def fly (self):\n",
    "        print(\"Peguin isn't flying\")  # prints \"Peguin is flying\"\n",
    "def let_Bird_Fly (bird):\n",
    "    print(bird.fly())"
   ]
  },
  {
   "cell_type": "markdown",
   "metadata": {},
   "source": [
    "## Solution for the problem :"
   ]
  },
  {
   "cell_type": "code",
   "execution_count": 14,
   "metadata": {},
   "outputs": [
    {
     "name": "stdout",
     "output_type": "stream",
     "text": [
      "Square area: 25\n",
      "Rectangle area: 10\n"
     ]
    }
   ],
   "source": [
    "from abc import ABC, abstractmethod\n",
    "\n",
    "class Shape(ABC):\n",
    "    @abstractmethod\n",
    "    def get_area(self):\n",
    "        pass\n",
    "\n",
    "class Rectangle(Shape):\n",
    "    def __init__(self, height, base):\n",
    "        self.height = height\n",
    "        self.base = base\n",
    "\n",
    "    def get_area(self):\n",
    "        return self.base * self.height\n",
    "\n",
    "class Square(Shape):\n",
    "    def __init__(self, side):\n",
    "        self.side = side\n",
    "\n",
    "    def get_area(self):\n",
    "        return self.side ** 2\n",
    "\n",
    "\n",
    "square1 = Square(5)\n",
    "rectangle1 = Rectangle(5, 2)\n",
    "\n",
    "# Get and print areas\n",
    "print(f\"Square area: {square1.get_area()}\")\n",
    "print(f\"Rectangle area: {rectangle1.get_area()}\")"
   ]
  },
  {
   "cell_type": "code",
   "execution_count": null,
   "metadata": {},
   "outputs": [],
   "source": [
    "class Vehicle :\n",
    "    def drive (self):\n",
    "        print(\"Vroom!\")\n",
    "class Driving_Vehicle (Vehicle):\n",
    "    def drive (self):\n",
    "        return \"Driving\"\n",
    "class non_driving (Vehicle):\n",
    "     def drive (self):\n",
    "         return \"Not driving\"\n",
    "class Car (Driving_Vehicle):\n",
    "    def drive (self):\n",
    "        return \"Driving a car\"\n",
    "class Bicycle (non_driving):\n",
    "    def drive (self):\n",
    "        return \"Not driving a bicycle\""
   ]
  },
  {
   "cell_type": "code",
   "execution_count": null,
   "metadata": {},
   "outputs": [],
   "source": [
    "class Bird :\n",
    "    def fly (self):\n",
    "        pass \n",
    "class Flying_Bird :\n",
    "    def fly (self):\n",
    "        pass \n",
    "class Cannot_Flying_Bird :\n",
    "    def cannot_fly (self):\n",
    "        pass\n",
    "class Sparrow (Flying_Bird):\n",
    "    def fly(self):\n",
    "        print(\"Sparrow is flying\")\n",
    "class Peguin (Cannot_Flying_Bird):\n",
    "    def cannot_fly(self):\n",
    "        print(\"Peguin cannot fly\")"
   ]
  },
  {
   "cell_type": "markdown",
   "metadata": {},
   "source": [
    "## I : Interface Segregation Principle (ISP)"
   ]
  },
  {
   "cell_type": "markdown",
   "metadata": {},
   "source": [
    "## The Problem Code : "
   ]
  },
  {
   "cell_type": "code",
   "execution_count": 16,
   "metadata": {},
   "outputs": [],
   "source": [
    "from abc import ABC, abstractmethod\n",
    "class Printer(ABC):\n",
    " @abstractmethod\n",
    " def print(self, document):\n",
    "   pass\n",
    " @abstractmethod\n",
    " def fax(self, document):\n",
    "   pass\n",
    " @abstractmethod\n",
    " def scan(self, document):\n",
    "   pass\n",
    "class OldPrinter(Printer):\n",
    " def print(self, document):\n",
    "   print(f\"Printing {document} in black and white...\")\n",
    " def fax(self, document):\n",
    "   raise NotImplementedError(\"Fax functionality not supported\")\n",
    " def scan(self, document):\n",
    "   raise NotImplementedError(\"Scan functionality not supported\")\n",
    "class ModernPrinter(Printer):\n",
    " def print(self, document):\n",
    "   print(f\"Printing {document} in color...\")\n",
    " def fax(self, document):\n",
    "   print(f\"Faxing {document}...\")\n",
    " def scan(self, document):\n",
    "   print(f\"Scanning {document}...\")"
   ]
  },
  {
   "cell_type": "code",
   "execution_count": null,
   "metadata": {},
   "outputs": [],
   "source": [
    "from abc import ABC , abstractclassmethod\n",
    "class Worker (ABC):\n",
    "    @abstractclassmethod\n",
    "    def Work (self):\n",
    "        pass\n",
    "    @abstractclassmethod\n",
    "    def Eat (self):\n",
    "        pass \n",
    "class Human (Worker):\n",
    "    def Work (self):\n",
    "        print(\"Human is working\")\n",
    "    def Eat (self):\n",
    "        print(\"Human is Eating\")\n",
    "class Robot (Worker):\n",
    "    def Work (self):\n",
    "        print(\"Robot is working\")\n",
    "    def Eat (self):\n",
    "        print(\"Robot isn't eating\")"
   ]
  },
  {
   "cell_type": "markdown",
   "metadata": {},
   "source": [
    "## The Solution Code : "
   ]
  },
  {
   "cell_type": "code",
   "execution_count": 5,
   "metadata": {},
   "outputs": [],
   "source": [
    "from abc import ABC, abstractmethod\n",
    "class Printer(ABC):\n",
    " @abstractmethod\n",
    " def print(self, document):\n",
    "   pass\n",
    "class Fax(ABC):\n",
    " @abstractmethod\n",
    " def fax(self, document):\n",
    "   pass\n",
    "class Scanner(ABC):\n",
    " @abstractmethod\n",
    " def scan(self, document):\n",
    "   pass\n",
    "class OldPrinter(Printer):\n",
    " def print(self, document):\n",
    "   print(f\"Printing {document} in black and white...\")\n",
    "class NewPrinter(Printer, Fax, Scanner):\n",
    " def print(self, document):\n",
    "   print(f\"Printing {document} in color...\")\n",
    " def fax(self, document):\n",
    "   print(f\"Faxing {document}...\")\n",
    " def scan(self, document):\n",
    "   print(f\"Scanning {document}...\")"
   ]
  },
  {
   "cell_type": "code",
   "execution_count": 6,
   "metadata": {},
   "outputs": [
    {
     "name": "stdout",
     "output_type": "stream",
     "text": [
      "Hello, world!\n",
      "Scanning the image\n",
      "Faxing the image\n"
     ]
    }
   ],
   "source": [
    "from abc import ABC, abstractmethod\n",
    "from typing import Protocol\n",
    "# Define an interface for printable objects\n",
    "class Printable(Protocol):\n",
    " @abstractmethod\n",
    " def print(self) -> None:\n",
    "    pass\n",
    "# Define an interface for scannable objects\n",
    "class Scannable(Protocol):\n",
    " @abstractmethod\n",
    " def scan(self) -> None:\n",
    "    pass\n",
    "# Define an interface for faxable objects\n",
    "class Faxable(Protocol):\n",
    " @abstractmethod\n",
    " def fax(self) -> None:\n",
    "    pass\n",
    "# Define a class that implements the Printable interface\n",
    "class Document(Printable):\n",
    " def __init__(self, content: str):\n",
    "    self.content = content\n",
    " # Implement the print method\n",
    " def print(self) -> None:\n",
    "     print(self.content)\n",
    "# Define a class that implements the Scannable and Faxable interfaces\n",
    "class Image(Scannable, Faxable):\n",
    " def __init__(self, data: bytes):\n",
    "     self.data = data\n",
    " # Implement the scan method\n",
    " def scan(self) -> None:\n",
    "     print(\"Scanning the image\")\n",
    " # Implement the fax method\n",
    " def fax(self) -> None:\n",
    "     print(\"Faxing the image\")\n",
    "# Define a class that depends on the Printable interface\n",
    "class Printer:\n",
    " def print(self, printable: Printable) -> None:\n",
    " # Use the print method of the printable object\n",
    "     printable.print()\n",
    "# Define a class that depends on the Scannable and Faxable interfaces\n",
    "class ScannerFaxer:\n",
    " def scan_and_fax(self, scannable: Scannable,faxable: Faxable) -> None:\n",
    " # Use the scan method of the scannable object\n",
    "     scannable.scan()\n",
    " # Use the fax method of the faxable object\n",
    "     faxable.fax()\n",
    "# Create a document object\n",
    "document = Document(\"Hello, world!\")\n",
    "# Create an image object\n",
    "image = Image(b\"\\x89PNG\\r\\n\\x1a\\n\\x00\\x00\")\n",
    "# Create a printer object\n",
    "printer = Printer()\n",
    "# Print the document using the printer\n",
    "printer.print(document)\n",
    "# Create a scanner-faxer object\n",
    "scanner_faxer = ScannerFaxer()\n",
    "# Scan and fax the image using the scanner-faxer\n",
    "scanner_faxer.scan_and_fax(image, image)"
   ]
  },
  {
   "cell_type": "code",
   "execution_count": 18,
   "metadata": {},
   "outputs": [
    {
     "name": "stdout",
     "output_type": "stream",
     "text": [
      "Robot is working\n",
      "Human is working\n",
      "Human is eating\n"
     ]
    }
   ],
   "source": [
    "from abc import ABC , abstractclassmethod\n",
    "class Eating (ABC):\n",
    "    @abstractclassmethod\n",
    "    def eat(self):\n",
    "        pass\n",
    "class Working (ABC):\n",
    "    @abstractclassmethod\n",
    "    def work(self):\n",
    "        pass\n",
    "class Human (Eating , Working):\n",
    "    def eat(self):\n",
    "        print(\"Human is eating\")\n",
    "    def work(self):\n",
    "        print(\"Human is working\")\n",
    "class Robot (Working):\n",
    "    def work(self):\n",
    "        print(\"Robot is working\")\n",
    "obj1 = Robot()\n",
    "obj2 = Human()\n",
    "obj1.work()\n",
    "obj2.work()\n",
    "obj2.eat()"
   ]
  },
  {
   "cell_type": "markdown",
   "metadata": {},
   "source": [
    "## D : Inversion Principle (DIP)"
   ]
  },
  {
   "cell_type": "code",
   "execution_count": 19,
   "metadata": {},
   "outputs": [
    {
     "name": "stdout",
     "output_type": "stream",
     "text": [
      "The Hitchhiker's Guide to the Galaxy by Douglas Adams\n",
      "Don't Panic.\n"
     ]
    }
   ],
   "source": [
    "from abc import ABC, abstractmethod\n",
    "# Define an interface for printable objects\n",
    "class Printable(ABC):\n",
    " @abstractmethod\n",
    " def format(self) -> str:\n",
    "    pass\n",
    "# Define a class that implements the Printable interface\n",
    "class Book(Printable):\n",
    " def __init__(self, title: str, author: str, content: str):\n",
    "    self.title = title\n",
    "    self.author = author\n",
    "    self.content = content\n",
    " # Implement the format method to return the book's content\n",
    " def format(self) -> str:\n",
    "    return f\"{self.title} by {self.author}\\n{self.content}\"\n",
    "# Define a high-level module that depends on the Printable interface\n",
    "class Printer:\n",
    " def print(self, printable: Printable):\n",
    " # Use the format method of the printable object\n",
    "    formatted_content = printable.format()\n",
    "    print(formatted_content)\n",
    "# Create a book object\n",
    "book = Book(\"The Hitchhiker's Guide to the Galaxy\", \"Douglas Adams\", \"Don't Panic.\")\n",
    "# Create a printer object\n",
    "printer = Printer()\n",
    "# Print the book using the printer\n",
    "printer.print(book)"
   ]
  },
  {
   "cell_type": "markdown",
   "metadata": {},
   "source": [
    "## The Problem Code : "
   ]
  },
  {
   "cell_type": "code",
   "execution_count": 20,
   "metadata": {},
   "outputs": [],
   "source": [
    "class FrontEnd:\n",
    " def __init__(self, back_end):\n",
    "     self.back_end = back_end\n",
    " def display_data(self):\n",
    "     data = self.back_end.get_data_from_database()\n",
    "     print(\"Display data:\", data)\n",
    "class BackEnd:\n",
    " def get_data_from_database(self):\n",
    "     return \"Data from the database\""
   ]
  },
  {
   "cell_type": "code",
   "execution_count": 1,
   "metadata": {},
   "outputs": [
    {
     "name": "stdout",
     "output_type": "stream",
     "text": [
      "Sending Email: Hello, World!\n"
     ]
    }
   ],
   "source": [
    "class EmailService:\n",
    "    def send_email(self, message):\n",
    "        print(f\"Sending Email: {message}\")\n",
    "class NotificationManager:\n",
    "    def __init__(self):\n",
    "        self.email_service = EmailService()  # Directly depends on EmailService\n",
    "\n",
    "    def send(self, message):\n",
    "        self.email_service.send_email(message)\n",
    "notifier = NotificationManager()\n",
    "notifier.send(\"Hello, World!\")"
   ]
  },
  {
   "cell_type": "markdown",
   "metadata": {},
   "source": [
    "## The Solution Code : "
   ]
  },
  {
   "cell_type": "code",
   "execution_count": 2,
   "metadata": {},
   "outputs": [],
   "source": [
    "from abc import ABC, abstractmethod\n",
    "class FrontEnd:\n",
    " def __init__(self, data_source):\n",
    "    self.data_source = data_source\n",
    " def display_data(self):\n",
    "    data = self.data_source.get_data()\n",
    "    print(\"Display data:\", data)\n",
    "class DataSource(ABC):\n",
    " @abstractmethod\n",
    " def get_data(self):\n",
    "    pass\n",
    "class Database(DataSource):\n",
    " def get_data(self):\n",
    "    return \"Data from the database\"\n",
    "class API(DataSource):\n",
    " def get_data(self):\n",
    "    return \"Data from the API\""
   ]
  },
  {
   "cell_type": "code",
   "execution_count": 6,
   "metadata": {},
   "outputs": [
    {
     "name": "stdout",
     "output_type": "stream",
     "text": [
      "Sending Email: Hello My Friend\n",
      "Sending SMS: Hello My Friend\n"
     ]
    }
   ],
   "source": [
    "from abc import ABC , abstractclassmethod\n",
    "class NotificationServices (ABC):\n",
    "    @abstractclassmethod\n",
    "    def send (self):\n",
    "        pass \n",
    "# Define a concrete class for sending notifications via email\n",
    "class EmailService (NotificationServices):\n",
    "    def send (self , message):\n",
    "        print (f\"Sending Email: {message}\")\n",
    "class SMS_Service (NotificationServices):\n",
    "    def send (self , message):\n",
    "        print (f\"Sending SMS: {message}\")\n",
    "# High Level Model \n",
    "class NotificationManager :\n",
    "    def __init__(self , service : NotificationServices):\n",
    "        self.Service = service\n",
    "    def send (self , message):\n",
    "        self.Service.send (message)   \n",
    "Email1 = EmailService()\n",
    "SMS1 = SMS_Service()\n",
    "# Create instances of NotificationManager with different services\n",
    "EmailNotification = NotificationManager (Email1)\n",
    "SMSNotification = NotificationManager (SMS1)\n",
    "EmailNotification.send(\"Hello My Friend\")\n",
    "SMSNotification.send(\"Hello My Friend\")"
   ]
  }
 ],
 "metadata": {
  "kernelspec": {
   "display_name": "Python 3",
   "language": "python",
   "name": "python3"
  },
  "language_info": {
   "codemirror_mode": {
    "name": "ipython",
    "version": 3
   },
   "file_extension": ".py",
   "mimetype": "text/x-python",
   "name": "python",
   "nbconvert_exporter": "python",
   "pygments_lexer": "ipython3",
   "version": "3.13.0"
  }
 },
 "nbformat": 4,
 "nbformat_minor": 2
}
