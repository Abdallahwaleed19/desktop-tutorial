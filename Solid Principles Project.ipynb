{
 "cells": [
  {
   "cell_type": "markdown",
   "metadata": {},
   "source": [
    "## Title : Restaurant Order System"
   ]
  },
  {
   "cell_type": "markdown",
   "metadata": {},
   "source": [
    "## Made By : \n",
    "1. Abdallah Waleed Kamal Mousa Salem   |    ID : 20230192\n",
    "2. Saif Sameh Fathy Elsawey            |    ID : 20230142\n",
    "3. Abdelrahman Ali Ghonemi Ayad        |    ID : 20230174\n",
    "4. Abdelrahman Fathy Awad Elbahrawy    |    ID : 20230176"
   ]
  },
  {
   "cell_type": "markdown",
   "metadata": {},
   "source": [
    "##  Importing Dependencies :"
   ]
  },
  {
   "cell_type": "code",
   "execution_count": 2,
   "metadata": {},
   "outputs": [],
   "source": [
    "from abc import ABC, abstractmethod"
   ]
  },
  {
   "cell_type": "markdown",
   "metadata": {},
   "source": [
    "## Menu Class (SRP: Responsible for managing the menu) :"
   ]
  },
  {
   "cell_type": "code",
   "execution_count": 3,
   "metadata": {},
   "outputs": [],
   "source": [
    "class Menu:\n",
    "    def __init__(self):\n",
    "        self.items = {}\n",
    "\n",
    "    def add_item(self, name, price):\n",
    "        self.items[name] = price\n",
    "\n",
    "    def show_menu(self):\n",
    "        print(\"Menu:\")\n",
    "        for name, price in self.items.items():\n",
    "            print(f\"{name}: {price} EGP\")"
   ]
  },
  {
   "cell_type": "markdown",
   "metadata": {},
   "source": [
    "## Order Class (SRP: Responsible for managing the orders) :"
   ]
  },
  {
   "cell_type": "code",
   "execution_count": 4,
   "metadata": {},
   "outputs": [],
   "source": [
    "class Order:\n",
    "    def __init__(self):\n",
    "        self.order_items = []\n",
    "\n",
    "    def add_to_order(self, name, quantity, price):\n",
    "        self.order_items.append({\"name\": name, \"quantity\": quantity, \"price\": price})\n",
    "\n",
    "    def calculate_total(self):\n",
    "        return sum(item[\"quantity\"] * item[\"price\"] for item in self.order_items)"
   ]
  },
  {
   "cell_type": "markdown",
   "metadata": {},
   "source": [
    "##  Invoice Class (OCP: Extensible invoice generation) :"
   ]
  },
  {
   "cell_type": "code",
   "execution_count": 5,
   "metadata": {},
   "outputs": [],
   "source": [
    "class Invoice:\n",
    "    def __init__(self, order):\n",
    "        self.order = order\n",
    "\n",
    "    def generate_invoice(self):\n",
    "        print(\"\\nInvoice:\")\n",
    "        for item in self.order.order_items:\n",
    "            print(f\"{item['name']} x{item['quantity']} = {item['quantity'] * item['price']} EGP\")\n",
    "        print(f\"Total: {self.order.calculate_total()} EGP\")"
   ]
  },
  {
   "cell_type": "markdown",
   "metadata": {},
   "source": [
    "## Abstract PaymentMethod Class (DIP: Payment abstraction) :"
   ]
  },
  {
   "cell_type": "code",
   "execution_count": 6,
   "metadata": {},
   "outputs": [],
   "source": [
    "class PaymentMethod(ABC):\n",
    "    @abstractmethod\n",
    "    def pay(self, amount):\n",
    "        pass"
   ]
  },
  {
   "cell_type": "markdown",
   "metadata": {},
   "source": [
    "## Concrete PaymentMethod Implementations : "
   ]
  },
  {
   "cell_type": "code",
   "execution_count": 7,
   "metadata": {},
   "outputs": [],
   "source": [
    "class CashPayment(PaymentMethod):\n",
    "    def pay(self, amount):\n",
    "        print(f\"Paid {amount} EGP in cash.\")\n",
    "\n",
    "class CardPayment(PaymentMethod):\n",
    "    def pay(self, amount):\n",
    "        print(f\"Paid {amount} EGP via card.\")\n",
    "\n",
    "class WalletPayment(PaymentMethod):\n",
    "    def pay(self, amount):\n",
    "        print(f\"Paid {amount} EGP via wallet.\")"
   ]
  },
  {
   "cell_type": "markdown",
   "metadata": {},
   "source": [
    "## Main Program : "
   ]
  },
  {
   "cell_type": "code",
   "execution_count": 8,
   "metadata": {},
   "outputs": [
    {
     "name": "stdout",
     "output_type": "stream",
     "text": [
      "Menu:\n",
      "Burger: 50 EGP\n",
      "Pizza: 100 EGP\n",
      "Soda: 20 EGP\n",
      "Fries: 30 EGP\n",
      "\n",
      "Invoice:\n",
      "Burger x2 = 100 EGP\n",
      "Soda x3 = 60 EGP\n",
      "Fries x1 = 30 EGP\n",
      "Total: 190 EGP\n",
      "\n",
      "Select Payment Method:\n",
      "1. Cash\n",
      "2. Card\n",
      "3. Wallet\n",
      "Paid 190 EGP in cash.\n"
     ]
    }
   ],
   "source": [
    "menu = Menu()\n",
    "menu.add_item(\"Burger\", 50)\n",
    "menu.add_item(\"Pizza\", 100)\n",
    "menu.add_item(\"Soda\", 20)\n",
    "menu.add_item(\"Fries\", 30)\n",
    "menu.show_menu()\n",
    "\n",
    "order = Order()\n",
    "order.add_to_order(\"Burger\", 2, 50)  \n",
    "order.add_to_order(\"Soda\", 3, 20)    \n",
    "order.add_to_order(\"Fries\", 1, 30)   \n",
    "\n",
    "invoice = Invoice(order)\n",
    "invoice.generate_invoice()\n",
    "\n",
    "print(\"\\nSelect Payment Method:\")\n",
    "print(\"1. Cash\")\n",
    "print(\"2. Card\")\n",
    "print(\"3. Wallet\")\n",
    "choice = int(input(\"Enter choice: \"))\n",
    "if choice == 1:\n",
    "    payment = CashPayment()\n",
    "elif choice == 2:\n",
    "    payment = CardPayment()\n",
    "elif choice == 3:\n",
    "    payment = WalletPayment()\n",
    "else:\n",
    "    print(\"Invalid choice. Defaulting to Cash.\")\n",
    "    payment = CashPayment()\n",
    "\n",
    "payment.pay(order.calculate_total())"
   ]
  }
 ],
 "metadata": {
  "kernelspec": {
   "display_name": "Python 3",
   "language": "python",
   "name": "python3"
  },
  "language_info": {
   "codemirror_mode": {
    "name": "ipython",
    "version": 3
   },
   "file_extension": ".py",
   "mimetype": "text/x-python",
   "name": "python",
   "nbconvert_exporter": "python",
   "pygments_lexer": "ipython3",
   "version": "3.13.0"
  }
 },
 "nbformat": 4,
 "nbformat_minor": 2
}
